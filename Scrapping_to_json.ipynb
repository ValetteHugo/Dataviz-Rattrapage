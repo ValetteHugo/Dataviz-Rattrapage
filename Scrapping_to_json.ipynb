{
 "cells": [
  {
   "cell_type": "code",
   "execution_count": 1,
   "metadata": {},
   "outputs": [],
   "source": [
    "import requests\n",
    "import bs4\n",
    "from bs4 import BeautifulSoup\n",
    "import re\n",
    "import pandas as pd\n",
    "import numpy as np\n",
    "import json"
   ]
  },
  {
   "cell_type": "code",
   "execution_count": 2,
   "metadata": {},
   "outputs": [
    {
     "name": "stdout",
     "output_type": "stream",
     "text": [
      "lu!\n"
     ]
    }
   ],
   "source": [
    "page = \"https://fr.wikipedia.org/wiki/Liste_de_films_français_sortis_en_2019\"\n",
    "reponse = requests.get(page)\n",
    "soup = BeautifulSoup(reponse.content, 'lxml')\n",
    "table =  soup.find(\"tbody\")\n",
    "listeTR = table.find_all('tr')\n",
    "print(\"lu!\")"
   ]
  },
  {
   "cell_type": "code",
   "execution_count": 3,
   "metadata": {},
   "outputs": [],
   "source": [
    "listeTitre =[]\n",
    "listeGenre= []\n",
    "listeReal = []\n",
    "for tr in listeTR:\n",
    "    Alltd = tr.find_all(\"td\")\n",
    "    if(len(Alltd)!= 0):\n",
    "        listeTitre.append(Alltd[0].text)\n",
    "        listeReal.append(Alltd[1].text)\n",
    "        if (Alltd[2].text==''):\n",
    "            listeGenre.append(\"PAS DE GENRE\")\n",
    "        else:\n",
    "            listeGenre.append(Alltd[2].text.upper())\n",
    "        "
   ]
  },
  {
   "cell_type": "code",
   "execution_count": 4,
   "metadata": {},
   "outputs": [
    {
     "name": "stdout",
     "output_type": "stream",
     "text": [
      "192\n",
      "192\n",
      "192\n"
     ]
    }
   ],
   "source": [
    "print(len(listeTitre))\n",
    "print(len(listeGenre))\n",
    "print(len(listeReal))"
   ]
  },
  {
   "cell_type": "code",
   "execution_count": 5,
   "metadata": {},
   "outputs": [],
   "source": [
    "colTitre = pd.DataFrame(listeTitre, columns= [\"Titre\"])\n",
    "colGenre = pd.DataFrame(listeGenre, columns= [\"Genre\"])\n",
    "colReal = pd.DataFrame(listeReal, columns= [\"Realisateur\"])"
   ]
  },
  {
   "cell_type": "code",
   "execution_count": 6,
   "metadata": {},
   "outputs": [],
   "source": [
    "tab = pd.DataFrame()\n",
    "tab = pd.concat([colTitre, colGenre,colReal] , axis=1)\n",
    "\n",
    "data= tab.to_dict('records')"
   ]
  },
  {
   "cell_type": "code",
   "execution_count": 7,
   "metadata": {},
   "outputs": [],
   "source": [
    "output_file = \"TESTDATA.json\"\n",
    "with open(output_file, \"w\",encoding='utf8') as outfile:\n",
    "    json.dump(data,outfile,ensure_ascii=False, indent=4)"
   ]
  },
  {
   "source": [],
   "cell_type": "code",
   "metadata": {},
   "execution_count": null,
   "outputs": []
  }
 ],
 "metadata": {
  "kernelspec": {
   "display_name": "Python 3",
   "language": "python",
   "name": "python3"
  },
  "language_info": {
   "codemirror_mode": {
    "name": "ipython",
    "version": 3
   },
   "file_extension": ".py",
   "mimetype": "text/x-python",
   "name": "python",
   "nbconvert_exporter": "python",
   "pygments_lexer": "ipython3",
   "version": "3.7.7"
  }
 },
 "nbformat": 4,
 "nbformat_minor": 4
}