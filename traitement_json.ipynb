{
 "cells": [
  {
   "cell_type": "code",
   "execution_count": 11,
   "metadata": {},
   "outputs": [],
   "source": [
    "import json\n",
    "import requests\n",
    "import bs4\n",
    "from bs4 import BeautifulSoup\n",
    "import re\n",
    "import pandas as pd\n",
    "import numpy as np"
   ]
  },
  {
   "cell_type": "code",
   "execution_count": 12,
   "metadata": {},
   "outputs": [
    {
     "name": "stdout",
     "output_type": "stream",
     "text": [
      "len(data_json))\n",
      " 192\n",
      "ok\n",
      "179\n",
      "29\n",
      "208\n"
     ]
    }
   ],
   "source": [
    "#input_file_test = \"test.json\"\n",
    "input_file = \"./TESTDATA.json\"\n",
    "\n",
    "listeTitres1 =[]\n",
    "listeGenres1= []\n",
    "listeReals1 = []\n",
    "listeTitres2 =[]\n",
    "listeGenres2= []\n",
    "listeReals2 = []\n",
    "\n",
    "with open(input_file, encoding='utf8') as file:\n",
    "    data_json = json.load(file)\n",
    "    print(\"len(data_json))\\n\", len(data_json))\n",
    "    for i in range(len(data_json)):\n",
    "        genre = data_json[i][\"Genre\"]      \n",
    "        listeGenre = genre.split(\", \")\n",
    "        if(len(listeGenre)!=1):\n",
    "            for genre_v in listeGenre:\n",
    "                listeTitres2.append(data_json[i][\"Titre\"])\n",
    "                listeGenres2.append(genre_v)\n",
    "                listeReals2.append(data_json[i][\"Realisateur\"])\n",
    "        else:\n",
    "            listeTitres1.append(data_json[i][\"Titre\"])\n",
    "            listeGenres1.append(data_json[i][\"Genre\"])\n",
    "            listeReals1.append(data_json[i][\"Realisateur\"])\n",
    "\n",
    "            \n",
    "colTitre1 = pd.DataFrame(listeTitres1, columns= [\"Titre\"])\n",
    "colGenre1 = pd.DataFrame(listeGenres1, columns= [\"Genre\"])\n",
    "colReal1 = pd.DataFrame(listeReals1, columns= [\"Realisateur\"])\n",
    "\n",
    "colTitre2 = pd.DataFrame(listeTitres2, columns= [\"Titre\"])\n",
    "colGenre2 = pd.DataFrame(listeGenres2, columns= [\"Genre\"])\n",
    "colReal2 = pd.DataFrame(listeReals2, columns= [\"Realisateur\"])\n",
    "\n",
    "print(\"ok\")\n",
    "print(len(colTitre1))\n",
    "print(len(colTitre2))\n",
    "taille= len(colTitre1) + len(colTitre2)\n",
    "print(taille)\n",
    "\n",
    "tab1 = pd.DataFrame()\n",
    "tab2 = pd.DataFrame()\n",
    "tab1 = pd.concat([colTitre1, colGenre1,colReal1] , axis=1)\n",
    "tab2 = pd.concat([colTitre2, colGenre2,colReal2] , axis=1)\n",
    "tab = pd.concat([tab1,tab2])\n",
    "data= tab.to_dict('records')\n"
   ]
  },
  {
   "cell_type": "code",
   "execution_count": 13,
   "metadata": {},
   "outputs": [],
   "source": [
    "output_file = \"data_movie_2019_Final.json\"\n",
    "with open(output_file, \"w\",encoding='utf8') as outfile:\n",
    "    json.dump(data,outfile,ensure_ascii=False, indent=4)"
   ]
  },
  {
   "cell_type": "code",
   "execution_count": null,
   "metadata": {},
   "outputs": [],
   "source": [
    " "
   ]
  }
 ],
 "metadata": {
  "kernelspec": {
   "display_name": "Python 3",
   "language": "python",
   "name": "python3"
  },
  "language_info": {
   "codemirror_mode": {
    "name": "ipython",
    "version": 3
   },
   "file_extension": ".py",
   "mimetype": "text/x-python",
   "name": "python",
   "nbconvert_exporter": "python",
   "pygments_lexer": "ipython3",
   "version": "3.7.7"
  }
 },
 "nbformat": 4,
 "nbformat_minor": 4
}
